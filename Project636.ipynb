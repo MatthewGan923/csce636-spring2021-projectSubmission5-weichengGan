{
  "nbformat": 4,
  "nbformat_minor": 0,
  "metadata": {
    "accelerator": "GPU",
    "colab": {
      "name": "Project636.ipynb",
      "provenance": [],
      "collapsed_sections": []
    },
    "kernelspec": {
      "display_name": "Python 3",
      "name": "python3"
    }
  },
  "cells": [
    {
      "cell_type": "markdown",
      "metadata": {
        "id": "X38L6tanrnrB"
      },
      "source": [
        "This is a project for detecting the action of falling"
      ]
    },
    {
      "cell_type": "code",
      "metadata": {
        "colab": {
          "base_uri": "https://localhost:8080/"
        },
        "id": "nZ3Ud9zLgOoQ",
        "outputId": "e42c6b46-0ef5-4b67-85dd-86eb771774f6"
      },
      "source": [
        "from google.colab import drive\n",
        "drive.mount('/content/drive')"
      ],
      "execution_count": 1,
      "outputs": [
        {
          "output_type": "stream",
          "text": [
            "Mounted at /content/drive\n"
          ],
          "name": "stdout"
        }
      ]
    },
    {
      "cell_type": "code",
      "metadata": {
        "id": "sZbwjAj3S1oe"
      },
      "source": [
        "from keras import models\n",
        "from keras import layers\n",
        "from keras import metrics\n",
        "from keras import optimizers\n",
        "import keras\n",
        "import numpy as np\n",
        "import json\n",
        "import os\n",
        "import csv\n",
        "import pandas as pd"
      ],
      "execution_count": 2,
      "outputs": []
    },
    {
      "cell_type": "markdown",
      "metadata": {
        "id": "7XjvbPlKAD6a"
      },
      "source": [
        "# New Section"
      ]
    },
    {
      "cell_type": "markdown",
      "metadata": {
        "id": "2IeZV8FD2Ueb"
      },
      "source": [
        "**Now we are cleaning all the data**"
      ]
    },
    {
      "cell_type": "code",
      "metadata": {
        "id": "IgbCxZCpS9MH"
      },
      "source": [
        "# now we read all the data\n",
        "dataPath = \"/content/drive/MyDrive/Colab Notebooks/data\""
      ],
      "execution_count": 3,
      "outputs": []
    },
    {
      "cell_type": "code",
      "metadata": {
        "id": "QgzTWECuGPSy"
      },
      "source": [
        "def readDataFrame(path, totalData, totalLabel):  \n",
        "  total_df = pd.read_csv(path, header=None)\n",
        "  label = total_df.iloc[:, 63]\n",
        "  totalLabel += label.to_list()\n",
        "  # now drop the label column\n",
        "  total_df = total_df.drop(total_df.columns[63], axis = 1)\n",
        "  for index, row in total_df.iterrows():\n",
        "    totalData.append(row.to_list())\n",
        "  return totalData, totalLabel"
      ],
      "execution_count": 4,
      "outputs": []
    },
    {
      "cell_type": "code",
      "metadata": {
        "id": "5cFYVruzHWXL"
      },
      "source": [
        "# now we read in all the data\n",
        "Data = []\n",
        "Label = []\n",
        "for itemPath in os.listdir(dataPath):\n",
        "  item = os.path.join(dataPath, itemPath)\n",
        "  Data, Label = readDataFrame(item, Data, Label)\n"
      ],
      "execution_count": 5,
      "outputs": []
    },
    {
      "cell_type": "code",
      "metadata": {
        "colab": {
          "base_uri": "https://localhost:8080/"
        },
        "id": "rkmczk-8IxDa",
        "outputId": "faf7bf74-588a-4f2c-de84-1deeafa82a6e"
      },
      "source": [
        "print(\"data length is \" + str(len(Data)))\n",
        "print(\"label length is \" + str(len(Label)))"
      ],
      "execution_count": 6,
      "outputs": [
        {
          "output_type": "stream",
          "text": [
            "data length is 56268\n",
            "label length is 56268\n"
          ],
          "name": "stdout"
        }
      ]
    },
    {
      "cell_type": "code",
      "metadata": {
        "colab": {
          "base_uri": "https://localhost:8080/"
        },
        "id": "FM0U3xy_JVcZ",
        "outputId": "4f6b52e8-56f7-429f-ba18-9c9f013aab09"
      },
      "source": [
        "print(\"non falling label: \" + str(Label.count(0)))\n",
        "print(\"falling label: \" + str(Label.count(1)))"
      ],
      "execution_count": 7,
      "outputs": [
        {
          "output_type": "stream",
          "text": [
            "non falling label: 53003\n",
            "falling label: 3265\n"
          ],
          "name": "stdout"
        }
      ]
    },
    {
      "cell_type": "code",
      "metadata": {
        "colab": {
          "base_uri": "https://localhost:8080/"
        },
        "id": "DRuBiaJ7Jd6x",
        "outputId": "1d2d9447-123a-4eff-8ac4-5349d344221b"
      },
      "source": [
        "# now we need to up-sampling to balance the data\n",
        "totalData = []\n",
        "for i in range(len(Data)):\n",
        "  totalData.append(Data[i])\n",
        "  totalData[i].append(Label[i])    \n",
        "df = pd.DataFrame.from_records(totalData)\n",
        "df = df.rename(columns={df.columns[63]: \"labels\"})\n",
        "fallDf = df[df['labels'] == 1]\n",
        "nonFallDf = df[df['labels'] == 0]\n",
        "from sklearn.utils import resample\n",
        "sampled_fallDf = resample(fallDf, replace = True, n_samples=len(nonFallDf))\n",
        "newData = pd.concat([nonFallDf, sampled_fallDf])\n",
        "newData.labels.value_counts()"
      ],
      "execution_count": 8,
      "outputs": [
        {
          "output_type": "execute_result",
          "data": {
            "text/plain": [
              "1    53003\n",
              "0    53003\n",
              "Name: labels, dtype: int64"
            ]
          },
          "metadata": {
            "tags": []
          },
          "execution_count": 8
        }
      ]
    },
    {
      "cell_type": "code",
      "metadata": {
        "colab": {
          "base_uri": "https://localhost:8080/"
        },
        "id": "4HCd6X0DQA_V",
        "outputId": "e71d52eb-176b-47e3-8d85-9fad9ddcf46a"
      },
      "source": [
        "# next we shuffle the data and split them\n",
        "totalData = newData.values\n",
        "np.random.shuffle(totalData)\n",
        "test_data = totalData[: len(totalData) // 9]\n",
        "train_data = totalData[len(totalData) // 9:]\n",
        "print(\"train: \" + str(len(train_data)))\n",
        "print(\"test: \" + str(len(test_data)))"
      ],
      "execution_count": 22,
      "outputs": [
        {
          "output_type": "stream",
          "text": [
            "train: 94228\n",
            "test: 11778\n"
          ],
          "name": "stdout"
        }
      ]
    },
    {
      "cell_type": "code",
      "metadata": {
        "id": "ruNlUJQrQyaA"
      },
      "source": [
        "# prepare all the training data and label\n",
        "from keras.layers import LSTM\n",
        "from keras import callbacks\n",
        "from keras import layers\n",
        "from keras.models import Sequential\n",
        "\n",
        "\n",
        "train_x = []\n",
        "train_y = []\n",
        "for data in train_data:\n",
        "  train_x.append(data[:63])\n",
        "  train_y.append(int(data[63]))\n",
        "train_x = np.array(train_x)\n",
        "train_x = train_x.reshape((len(train_x), 1, len(train_x[0])))\n",
        "train_y = np.array(train_y)"
      ],
      "execution_count": 23,
      "outputs": []
    },
    {
      "cell_type": "code",
      "metadata": {
        "colab": {
          "base_uri": "https://localhost:8080/"
        },
        "id": "vFTX6olxTtbE",
        "outputId": "8510a70d-24ac-40a0-c3fb-69b4493f16a0"
      },
      "source": [
        "print(train_x.shape)\n",
        "print(train_y.shape)"
      ],
      "execution_count": 24,
      "outputs": [
        {
          "output_type": "stream",
          "text": [
            "(94228, 1, 63)\n",
            "(94228,)\n"
          ],
          "name": "stdout"
        }
      ]
    },
    {
      "cell_type": "code",
      "metadata": {
        "id": "Hed9WRC4ejuJ"
      },
      "source": [
        "\n",
        "# function for plotting the results\n",
        "import matplotlib.pyplot as plt\n",
        "def plotting_training(history):\n",
        "  # Plot training & validation accuracy values\n",
        "  plt.plot(history.history['acc'])\n",
        "  plt.plot(history.history['val_acc'])\n",
        "  plt.title('Model accuracy')\n",
        "  plt.ylabel('Accuracy')\n",
        "  plt.xlabel('Epoch')\n",
        "  plt.legend(['Train', 'Test'])\n",
        "  plt.show()\n",
        "  # Plot training & validation loss values\n",
        "  loss = history.history['loss']\n",
        "  val_loss = history.history['val_loss']\n",
        "  epochs = range(1, len(loss) + 1)\n",
        "  plt.figure()\n",
        "  plt.plot(epochs, loss, 'bo', label=\"Train loss\")\n",
        "  plt.plot(epochs, val_loss, 'b', label='Validation loss')\n",
        "  plt.title('Training and validation loss')\n",
        "  plt.xlabel('epoch')\n",
        "  plt.ylabel('loss')\n",
        "  plt.legend()\n",
        "  plt.show()"
      ],
      "execution_count": 25,
      "outputs": []
    },
    {
      "cell_type": "code",
      "metadata": {
        "id": "z8GaQntF5wTG"
      },
      "source": [
        "# this is the dynamic learning rate function\n",
        "def learningRate(epoch):\n",
        "  if epoch < 10:\n",
        "    return 0.001\n",
        "  else:\n",
        "    return 0.001 * np.exp(0.1 * (10 - epoch))"
      ],
      "execution_count": 31,
      "outputs": []
    },
    {
      "cell_type": "code",
      "metadata": {
        "colab": {
          "base_uri": "https://localhost:8080/"
        },
        "id": "oCDn6SCb55Fj",
        "outputId": "f1b13ad1-ad86-4ce9-a5ac-54544a972c5a"
      },
      "source": [
        "\n",
        "# we start with GRU\n",
        "model = Sequential()\n",
        "model.add(layers.Conv1D(32, 1, activation='relu', input_shape=(1, 63)))\n",
        "model.add(layers.MaxPool1D(1))\n",
        "model.add(layers.Conv1D(32, 1, activation='relu'))\n",
        "model.add(layers.GRU(32, dropout= 0.1, recurrent_dropout=0.5))\n",
        "model.add(layers.Dense(1, activation='sigmoid'))\n",
        "model.summary()\n",
        "model.compile(optimizer='rmsprop', loss='binary_crossentropy', metrics=['acc'])\n",
        "history = model.fit(train_x, train_y, epochs= 60, batch_size = 16, validation_split = 0.2, callbacks=[callbacks.EarlyStopping(monitor='acc', patience = 5), callbacks.LearningRateScheduler(learningRate)] )"
      ],
      "execution_count": 32,
      "outputs": [
        {
          "output_type": "stream",
          "text": [
            "WARNING:tensorflow:Layer gru_4 will not use cuDNN kernel since it doesn't meet the cuDNN kernel criteria. It will use generic GPU kernel as fallback when running on GPU\n",
            "Model: \"sequential_10\"\n",
            "_________________________________________________________________\n",
            "Layer (type)                 Output Shape              Param #   \n",
            "=================================================================\n",
            "conv1d_13 (Conv1D)           (None, 1, 32)             2048      \n",
            "_________________________________________________________________\n",
            "max_pooling1d_7 (MaxPooling1 (None, 1, 32)             0         \n",
            "_________________________________________________________________\n",
            "conv1d_14 (Conv1D)           (None, 1, 32)             1056      \n",
            "_________________________________________________________________\n",
            "gru_4 (GRU)                  (None, 32)                6336      \n",
            "_________________________________________________________________\n",
            "dense_4 (Dense)              (None, 1)                 33        \n",
            "=================================================================\n",
            "Total params: 9,473\n",
            "Trainable params: 9,473\n",
            "Non-trainable params: 0\n",
            "_________________________________________________________________\n",
            "Epoch 1/60\n",
            "4712/4712 [==============================] - 44s 9ms/step - loss: 0.5461 - acc: 0.7086 - val_loss: 0.3553 - val_acc: 0.8490\n",
            "Epoch 2/60\n",
            "4712/4712 [==============================] - 42s 9ms/step - loss: 0.3496 - acc: 0.8486 - val_loss: 0.4112 - val_acc: 0.8223\n",
            "Epoch 3/60\n",
            "4712/4712 [==============================] - 40s 9ms/step - loss: 0.2961 - acc: 0.8760 - val_loss: 0.2310 - val_acc: 0.9070\n",
            "Epoch 4/60\n",
            "4712/4712 [==============================] - 41s 9ms/step - loss: 0.2611 - acc: 0.8909 - val_loss: 0.3136 - val_acc: 0.8704\n",
            "Epoch 5/60\n",
            "4712/4712 [==============================] - 41s 9ms/step - loss: 0.2400 - acc: 0.9025 - val_loss: 0.2639 - val_acc: 0.8849\n",
            "Epoch 6/60\n",
            "4712/4712 [==============================] - 41s 9ms/step - loss: 0.2267 - acc: 0.9102 - val_loss: 0.2335 - val_acc: 0.9095\n",
            "Epoch 7/60\n",
            "4712/4712 [==============================] - 42s 9ms/step - loss: 0.2111 - acc: 0.9167 - val_loss: 0.2397 - val_acc: 0.9046\n",
            "Epoch 8/60\n",
            "4712/4712 [==============================] - 41s 9ms/step - loss: 0.2027 - acc: 0.9219 - val_loss: 0.1878 - val_acc: 0.9294\n",
            "Epoch 9/60\n",
            "4712/4712 [==============================] - 42s 9ms/step - loss: 0.1940 - acc: 0.9248 - val_loss: 0.1724 - val_acc: 0.9338\n",
            "Epoch 10/60\n",
            "4712/4712 [==============================] - 42s 9ms/step - loss: 0.1851 - acc: 0.9298 - val_loss: 0.1956 - val_acc: 0.9265\n",
            "Epoch 11/60\n",
            "4712/4712 [==============================] - 42s 9ms/step - loss: 0.1801 - acc: 0.9326 - val_loss: 0.2114 - val_acc: 0.9190\n",
            "Epoch 12/60\n",
            "4712/4712 [==============================] - 42s 9ms/step - loss: 0.1659 - acc: 0.9382 - val_loss: 0.1609 - val_acc: 0.9370\n",
            "Epoch 13/60\n",
            "4712/4712 [==============================] - 41s 9ms/step - loss: 0.1535 - acc: 0.9434 - val_loss: 0.2162 - val_acc: 0.9217\n",
            "Epoch 14/60\n",
            "4712/4712 [==============================] - 41s 9ms/step - loss: 0.1439 - acc: 0.9483 - val_loss: 0.2218 - val_acc: 0.9159\n",
            "Epoch 15/60\n",
            "4712/4712 [==============================] - 41s 9ms/step - loss: 0.1391 - acc: 0.9503 - val_loss: 0.1378 - val_acc: 0.9494\n",
            "Epoch 16/60\n",
            "4712/4712 [==============================] - 42s 9ms/step - loss: 0.1319 - acc: 0.9541 - val_loss: 0.1171 - val_acc: 0.9612\n",
            "Epoch 17/60\n",
            "4712/4712 [==============================] - 42s 9ms/step - loss: 0.1220 - acc: 0.9579 - val_loss: 0.1233 - val_acc: 0.9594\n",
            "Epoch 18/60\n",
            "4712/4712 [==============================] - 42s 9ms/step - loss: 0.1153 - acc: 0.9604 - val_loss: 0.1343 - val_acc: 0.9522\n",
            "Epoch 19/60\n",
            "4712/4712 [==============================] - 41s 9ms/step - loss: 0.1133 - acc: 0.9609 - val_loss: 0.1102 - val_acc: 0.9633\n",
            "Epoch 20/60\n",
            "4712/4712 [==============================] - 42s 9ms/step - loss: 0.1051 - acc: 0.9635 - val_loss: 0.1106 - val_acc: 0.9621\n",
            "Epoch 21/60\n",
            "4712/4712 [==============================] - 41s 9ms/step - loss: 0.1040 - acc: 0.9655 - val_loss: 0.1134 - val_acc: 0.9618\n",
            "Epoch 22/60\n",
            "4712/4712 [==============================] - 42s 9ms/step - loss: 0.1012 - acc: 0.9659 - val_loss: 0.0928 - val_acc: 0.9709\n",
            "Epoch 23/60\n",
            "4712/4712 [==============================] - 41s 9ms/step - loss: 0.0970 - acc: 0.9673 - val_loss: 0.1278 - val_acc: 0.9583\n",
            "Epoch 24/60\n",
            "4712/4712 [==============================] - 41s 9ms/step - loss: 0.0930 - acc: 0.9690 - val_loss: 0.1031 - val_acc: 0.9643\n",
            "Epoch 25/60\n",
            "4712/4712 [==============================] - 42s 9ms/step - loss: 0.0940 - acc: 0.9694 - val_loss: 0.0986 - val_acc: 0.9690\n",
            "Epoch 26/60\n",
            "4712/4712 [==============================] - 42s 9ms/step - loss: 0.0884 - acc: 0.9711 - val_loss: 0.0900 - val_acc: 0.9716\n",
            "Epoch 27/60\n",
            "4712/4712 [==============================] - 43s 9ms/step - loss: 0.0875 - acc: 0.9710 - val_loss: 0.0919 - val_acc: 0.9718\n",
            "Epoch 28/60\n",
            "4712/4712 [==============================] - 41s 9ms/step - loss: 0.0889 - acc: 0.9714 - val_loss: 0.0872 - val_acc: 0.9745\n",
            "Epoch 29/60\n",
            "4712/4712 [==============================] - 41s 9ms/step - loss: 0.0820 - acc: 0.9735 - val_loss: 0.0834 - val_acc: 0.9749\n",
            "Epoch 30/60\n",
            "4712/4712 [==============================] - 41s 9ms/step - loss: 0.0816 - acc: 0.9738 - val_loss: 0.0836 - val_acc: 0.9759\n",
            "Epoch 31/60\n",
            "4712/4712 [==============================] - 42s 9ms/step - loss: 0.0808 - acc: 0.9742 - val_loss: 0.0876 - val_acc: 0.9732\n",
            "Epoch 32/60\n",
            "4712/4712 [==============================] - 44s 9ms/step - loss: 0.0806 - acc: 0.9746 - val_loss: 0.0816 - val_acc: 0.9766\n",
            "Epoch 33/60\n",
            "4712/4712 [==============================] - 41s 9ms/step - loss: 0.0825 - acc: 0.9732 - val_loss: 0.0850 - val_acc: 0.9738\n",
            "Epoch 34/60\n",
            "4712/4712 [==============================] - 42s 9ms/step - loss: 0.0788 - acc: 0.9755 - val_loss: 0.0825 - val_acc: 0.9754\n",
            "Epoch 35/60\n",
            "4712/4712 [==============================] - 41s 9ms/step - loss: 0.0789 - acc: 0.9749 - val_loss: 0.0818 - val_acc: 0.9758\n",
            "Epoch 36/60\n",
            "4712/4712 [==============================] - 42s 9ms/step - loss: 0.0773 - acc: 0.9758 - val_loss: 0.0819 - val_acc: 0.9765\n",
            "Epoch 37/60\n",
            "4712/4712 [==============================] - 41s 9ms/step - loss: 0.0766 - acc: 0.9761 - val_loss: 0.0831 - val_acc: 0.9745\n",
            "Epoch 38/60\n",
            "4712/4712 [==============================] - 40s 9ms/step - loss: 0.0789 - acc: 0.9756 - val_loss: 0.0865 - val_acc: 0.9741\n",
            "Epoch 39/60\n",
            "4712/4712 [==============================] - 41s 9ms/step - loss: 0.0785 - acc: 0.9753 - val_loss: 0.0828 - val_acc: 0.9766\n",
            "Epoch 40/60\n",
            "4712/4712 [==============================] - 41s 9ms/step - loss: 0.0790 - acc: 0.9753 - val_loss: 0.0820 - val_acc: 0.9762\n",
            "Epoch 41/60\n",
            "4712/4712 [==============================] - 41s 9ms/step - loss: 0.0778 - acc: 0.9763 - val_loss: 0.0831 - val_acc: 0.9755\n",
            "Epoch 42/60\n",
            "4712/4712 [==============================] - 41s 9ms/step - loss: 0.0760 - acc: 0.9766 - val_loss: 0.0867 - val_acc: 0.9743\n",
            "Epoch 43/60\n",
            "4712/4712 [==============================] - 43s 9ms/step - loss: 0.0749 - acc: 0.9762 - val_loss: 0.0815 - val_acc: 0.9761\n",
            "Epoch 44/60\n",
            "4712/4712 [==============================] - 42s 9ms/step - loss: 0.0754 - acc: 0.9766 - val_loss: 0.0797 - val_acc: 0.9766\n"
          ],
          "name": "stdout"
        }
      ]
    },
    {
      "cell_type": "code",
      "metadata": {
        "colab": {
          "base_uri": "https://localhost:8080/",
          "height": 607
        },
        "id": "qmicTF-68nSc",
        "outputId": "3d020345-6851-4f02-9274-57806422eee4"
      },
      "source": [
        "plotting_training(history)\n",
        "test_x = []\n",
        "test_y = []\n",
        "for data in test_data:\n",
        "  test_x.append(data[:63])\n",
        "  test_y.append(int(data[63]))\n",
        "test_x = np.array(test_x)\n",
        "test_x = test_x.reshape((len(test_x), 1, len(test_x[0])))\n",
        "test_y = np.array(test_y)\n",
        "results = model.evaluate(test_x, test_y, batch_size = 16)\n",
        "print(\"test loss, test acc: \", results)"
      ],
      "execution_count": 35,
      "outputs": [
        {
          "output_type": "display_data",
          "data": {
            "image/png": "[encoded data removed]",
            "text/plain": [
              "<Figure size 432x288 with 1 Axes>"
            ]
          },
          "metadata": {
            "tags": [],
            "needs_background": "light"
          }
        },
        {
          "output_type": "display_data",
          "data": {
            "image/png": "[encoded data removed]",
            "text/plain": [
              "<Figure size 432x288 with 1 Axes>"
            ]
          },
          "metadata": {
            "tags": [],
            "needs_background": "light"
          }
        },
        {
          "output_type": "stream",
          "text": [
            "737/737 [==============================] - 2s 2ms/step - loss: 0.0846 - acc: 0.9752\n",
            "test loss, test acc:  [0.08456606417894363, 0.975208044052124]\n"
          ],
          "name": "stdout"
        }
      ]
    },
    {
      "cell_type": "code",
      "metadata": {
        "id": "GQUS8QrNR6RC"
      },
      "source": [
        "model.save(\"/content/drive/MyDrive/Colab Notebooks/projectModelGRU.h5\")"
      ],
      "execution_count": null,
      "outputs": []
    },
    {
      "cell_type": "code",
      "metadata": {
        "colab": {
          "base_uri": "https://localhost:8080/"
        },
        "id": "7S4a4-w8Xxbn",
        "outputId": "2bf98dc4-0712-450d-8636-7c8c27e14f67"
      },
      "source": [
        "\n",
        "from keras.models import Sequential\n",
        "from keras.layers import Embedding, Dense\n",
        "model = Sequential()\n",
        "model.add(LSTM(32, input_shape=(1, 63), return_sequences=True))\n",
        "model.add(LSTM(16))\n",
        "model.add(Dense(1, activation='sigmoid'))\n",
        "model.compile(optimizer='rmsprop', loss='binary_crossentropy', metrics = ['acc'])\n",
        "history = model.fit(train_x, train_y, epochs= 60, batch_size = 16, validation_split = 0.2, callbacks=[callbacks.EarlyStopping(monitor='val_loss', patience = 5), callbacks.LearningRateScheduler(learningRate)] )"
      ],
      "execution_count": null,
      "outputs": [
        {
          "output_type": "stream",
          "text": [
            "Epoch 1/60\n",
            "4712/4712 [==============================] - 54s 7ms/step - loss: 0.5733 - acc: 0.6818 - val_loss: 0.4415 - val_acc: 0.7959\n",
            "Epoch 2/60\n",
            "4712/4712 [==============================] - 35s 7ms/step - loss: 0.4019 - acc: 0.8171 - val_loss: 0.5146 - val_acc: 0.7611\n",
            "Epoch 3/60\n",
            "4712/4712 [==============================] - 36s 8ms/step - loss: 0.3486 - acc: 0.8502 - val_loss: 0.3384 - val_acc: 0.8627\n",
            "Epoch 4/60\n",
            "4712/4712 [==============================] - 34s 7ms/step - loss: 0.3130 - acc: 0.8687 - val_loss: 0.2943 - val_acc: 0.8780\n",
            "Epoch 5/60\n",
            "4712/4712 [==============================] - 35s 7ms/step - loss: 0.2863 - acc: 0.8806 - val_loss: 0.3750 - val_acc: 0.8135\n",
            "Epoch 6/60\n",
            "4712/4712 [==============================] - 35s 7ms/step - loss: 0.2603 - acc: 0.8924 - val_loss: 0.2280 - val_acc: 0.9137\n",
            "Epoch 7/60\n",
            "4712/4712 [==============================] - 35s 7ms/step - loss: 0.2405 - acc: 0.9027 - val_loss: 0.2377 - val_acc: 0.8947\n",
            "Epoch 8/60\n",
            "4712/4712 [==============================] - 36s 8ms/step - loss: 0.2199 - acc: 0.9124 - val_loss: 0.2546 - val_acc: 0.8984\n",
            "Epoch 9/60\n",
            "4712/4712 [==============================] - 35s 7ms/step - loss: 0.2080 - acc: 0.9174 - val_loss: 0.2070 - val_acc: 0.9203\n",
            "Epoch 10/60\n",
            "4712/4712 [==============================] - 34s 7ms/step - loss: 0.1901 - acc: 0.9262 - val_loss: 0.1657 - val_acc: 0.9367\n",
            "Epoch 11/60\n",
            "4712/4712 [==============================] - 34s 7ms/step - loss: 0.1812 - acc: 0.9283 - val_loss: 0.2896 - val_acc: 0.8833\n",
            "Epoch 12/60\n",
            "4712/4712 [==============================] - 34s 7ms/step - loss: 0.1666 - acc: 0.9355 - val_loss: 0.1551 - val_acc: 0.9383\n",
            "Epoch 13/60\n",
            "4712/4712 [==============================] - 36s 8ms/step - loss: 0.1580 - acc: 0.9395 - val_loss: 0.1427 - val_acc: 0.9429\n",
            "Epoch 14/60\n",
            "4712/4712 [==============================] - 34s 7ms/step - loss: 0.1489 - acc: 0.9428 - val_loss: 0.1379 - val_acc: 0.9462\n",
            "Epoch 15/60\n",
            "4712/4712 [==============================] - 35s 7ms/step - loss: 0.1374 - acc: 0.9494 - val_loss: 0.1346 - val_acc: 0.9459\n",
            "Epoch 16/60\n",
            "4712/4712 [==============================] - 34s 7ms/step - loss: 0.1298 - acc: 0.9532 - val_loss: 0.1437 - val_acc: 0.9422\n",
            "Epoch 17/60\n",
            "4712/4712 [==============================] - 35s 7ms/step - loss: 0.1220 - acc: 0.9568 - val_loss: 0.1311 - val_acc: 0.9509\n",
            "Epoch 18/60\n",
            "4712/4712 [==============================] - 34s 7ms/step - loss: 0.1177 - acc: 0.9583 - val_loss: 0.1173 - val_acc: 0.9574\n",
            "Epoch 19/60\n",
            "4712/4712 [==============================] - 35s 7ms/step - loss: 0.1147 - acc: 0.9604 - val_loss: 0.1061 - val_acc: 0.9619\n",
            "Epoch 20/60\n",
            "4712/4712 [==============================] - 35s 7ms/step - loss: 0.1097 - acc: 0.9619 - val_loss: 0.1018 - val_acc: 0.9638\n",
            "Epoch 21/60\n",
            "4712/4712 [==============================] - 35s 7ms/step - loss: 0.1057 - acc: 0.9633 - val_loss: 0.1148 - val_acc: 0.9585\n",
            "Epoch 22/60\n",
            "4712/4712 [==============================] - 35s 7ms/step - loss: 0.0997 - acc: 0.9665 - val_loss: 0.1054 - val_acc: 0.9635\n",
            "Epoch 23/60\n",
            "4712/4712 [==============================] - 33s 7ms/step - loss: 0.1008 - acc: 0.9662 - val_loss: 0.1027 - val_acc: 0.9636\n",
            "Epoch 24/60\n",
            "4712/4712 [==============================] - 35s 7ms/step - loss: 0.0959 - acc: 0.9674 - val_loss: 0.1062 - val_acc: 0.9634\n",
            "Epoch 25/60\n",
            "4712/4712 [==============================] - 35s 7ms/step - loss: 0.0961 - acc: 0.9678 - val_loss: 0.0906 - val_acc: 0.9694\n",
            "Epoch 26/60\n",
            "4712/4712 [==============================] - 35s 7ms/step - loss: 0.0928 - acc: 0.9691 - val_loss: 0.0964 - val_acc: 0.9664\n",
            "Epoch 27/60\n",
            "4712/4712 [==============================] - 34s 7ms/step - loss: 0.0931 - acc: 0.9687 - val_loss: 0.0920 - val_acc: 0.9685\n",
            "Epoch 28/60\n",
            "4712/4712 [==============================] - 35s 7ms/step - loss: 0.0914 - acc: 0.9697 - val_loss: 0.0889 - val_acc: 0.9689\n",
            "Epoch 29/60\n",
            "4712/4712 [==============================] - 35s 7ms/step - loss: 0.0899 - acc: 0.9695 - val_loss: 0.0907 - val_acc: 0.9689\n",
            "Epoch 30/60\n",
            "4712/4712 [==============================] - 34s 7ms/step - loss: 0.0873 - acc: 0.9714 - val_loss: 0.0900 - val_acc: 0.9682\n",
            "Epoch 31/60\n",
            "4712/4712 [==============================] - 35s 7ms/step - loss: 0.0841 - acc: 0.9726 - val_loss: 0.0924 - val_acc: 0.9679\n",
            "Epoch 32/60\n",
            "4712/4712 [==============================] - 34s 7ms/step - loss: 0.0883 - acc: 0.9708 - val_loss: 0.0891 - val_acc: 0.9691\n",
            "Epoch 33/60\n",
            "4712/4712 [==============================] - 34s 7ms/step - loss: 0.0849 - acc: 0.9720 - val_loss: 0.0924 - val_acc: 0.9684\n"
          ],
          "name": "stdout"
        }
      ]
    },
    {
      "cell_type": "code",
      "metadata": {
        "id": "YZfiJP0BePXv"
      },
      "source": [
        "model.save('/content/drive/MyDrive/Colab Notebooks/projectModelLSTM.h5')"
      ],
      "execution_count": null,
      "outputs": []
    },
    {
      "cell_type": "code",
      "metadata": {
        "colab": {
          "base_uri": "https://localhost:8080/",
          "height": 573
        },
        "id": "5A-Hcychb5hn",
        "outputId": "ea59f12a-e8c1-45a4-9703-7ff771e176f6"
      },
      "source": [
        "plotting_training(history)"
      ],
      "execution_count": null,
      "outputs": [
        {
          "output_type": "display_data",
          "data": {
            "image/png": "[encoded data removed]",
            "text/plain": [
              "<Figure size 432x288 with 1 Axes>"
            ]
          },
          "metadata": {
            "tags": [],
            "needs_background": "light"
          }
        },
        {
          "output_type": "display_data",
          "data": {
            "image/png": "[encoded data removed]",
            "text/plain": [
              "<Figure size 432x288 with 1 Axes>"
            ]
          },
          "metadata": {
            "tags": [],
            "needs_background": "light"
          }
        }
      ]
    },
    {
      "cell_type": "code",
      "metadata": {
        "id": "tA1vX5M1ZcAc"
      },
      "source": [
        "test_x = []\n",
        "test_y = []\n",
        "for data in test_data:\n",
        "  test_x.append(data[:63])\n",
        "  test_y.append(int(data[63]))\n",
        "test_x = np.array(test_x)\n",
        "test_x = test_x.reshape((len(test_x), 1, len(test_x[0])))\n",
        "test_y = np.array(test_y)"
      ],
      "execution_count": null,
      "outputs": []
    },
    {
      "cell_type": "code",
      "metadata": {
        "colab": {
          "base_uri": "https://localhost:8080/"
        },
        "id": "q_9UE1jCbn9t",
        "outputId": "6f95b7ff-3b48-4338-e738-b73a06f56415"
      },
      "source": [
        "results = model.evaluate(test_x, test_y, batch_size = 16)\n",
        "print(\"test loss, test acc: \", results)\n"
      ],
      "execution_count": null,
      "outputs": [
        {
          "output_type": "stream",
          "text": [
            "737/737 [==============================] - 2s 3ms/step - loss: 0.0941 - acc: 0.9689\n",
            "test loss, test acc:  [0.09414494782686234, 0.9689251184463501]\n"
          ],
          "name": "stdout"
        }
      ]
    },
    {
      "cell_type": "code",
      "metadata": {
        "colab": {
          "base_uri": "https://localhost:8080/",
          "height": 1000
        },
        "id": "mcAqiBfucEoW",
        "outputId": "9dbb88d3-b7cd-40e9-b859-09035833793d"
      },
      "source": [
        "from keras.layers import Dense, Dropout, Embedding, LSTM, Bidirectional\n",
        "# now we use the bidirectional\n",
        "model = Sequential()\n",
        "model.add(Bidirectional(LSTM(32, return_sequences=True), input_shape=(1, 63)))\n",
        "model.add(Bidirectional(LSTM(16, return_sequences=True)))\n",
        "model.add(Dense(1, activation='sigmoid'))\n",
        "model.compile(optimizer='rmsprop', loss='binary_crossentropy', metrics = ['acc'])\n",
        "history = model.fit(train_x, train_y, epochs= 60, batch_size = 16, validation_split = 0.2, callbacks=[callbacks.EarlyStopping(monitor='val_loss', patience = 5), callbacks.LearningRateScheduler(scheduler)] )\n",
        "\n",
        "plotting_training(history)"
      ],
      "execution_count": null,
      "outputs": [
        {
          "output_type": "stream",
          "text": [
            "Epoch 1/60\n",
            "4712/4712 [==============================] - 63s 12ms/step - loss: 0.5626 - acc: 0.6934 - val_loss: 0.4018 - val_acc: 0.8149\n",
            "Epoch 2/60\n",
            "4712/4712 [==============================] - 56s 12ms/step - loss: 0.3955 - acc: 0.8198 - val_loss: 0.3480 - val_acc: 0.8468\n",
            "Epoch 3/60\n",
            "4712/4712 [==============================] - 57s 12ms/step - loss: 0.3400 - acc: 0.8521 - val_loss: 0.3311 - val_acc: 0.8461\n",
            "Epoch 4/60\n",
            "4712/4712 [==============================] - 56s 12ms/step - loss: 0.3020 - acc: 0.8694 - val_loss: 0.2533 - val_acc: 0.8918\n",
            "Epoch 5/60\n",
            "4712/4712 [==============================] - 57s 12ms/step - loss: 0.2650 - acc: 0.8901 - val_loss: 0.2471 - val_acc: 0.8919\n",
            "Epoch 6/60\n",
            "4712/4712 [==============================] - 56s 12ms/step - loss: 0.2374 - acc: 0.9023 - val_loss: 0.1959 - val_acc: 0.9238\n",
            "Epoch 7/60\n",
            "4712/4712 [==============================] - 55s 12ms/step - loss: 0.2090 - acc: 0.9144 - val_loss: 0.1800 - val_acc: 0.9301\n",
            "Epoch 8/60\n",
            "4712/4712 [==============================] - 56s 12ms/step - loss: 0.1909 - acc: 0.9232 - val_loss: 0.3106 - val_acc: 0.8692\n",
            "Epoch 9/60\n",
            "4712/4712 [==============================] - 56s 12ms/step - loss: 0.1759 - acc: 0.9317 - val_loss: 0.1589 - val_acc: 0.9400\n",
            "Epoch 10/60\n",
            "4712/4712 [==============================] - 55s 12ms/step - loss: 0.1521 - acc: 0.9414 - val_loss: 0.3875 - val_acc: 0.8381\n",
            "Epoch 11/60\n",
            "4712/4712 [==============================] - 56s 12ms/step - loss: 0.1432 - acc: 0.9447 - val_loss: 0.1235 - val_acc: 0.9559\n",
            "Epoch 12/60\n",
            "4712/4712 [==============================] - 56s 12ms/step - loss: 0.1242 - acc: 0.9532 - val_loss: 0.1152 - val_acc: 0.9587\n",
            "Epoch 13/60\n",
            "4712/4712 [==============================] - 57s 12ms/step - loss: 0.1111 - acc: 0.9598 - val_loss: 0.1291 - val_acc: 0.9484\n",
            "Epoch 14/60\n",
            "4712/4712 [==============================] - 55s 12ms/step - loss: 0.1000 - acc: 0.9643 - val_loss: 0.1069 - val_acc: 0.9630\n",
            "Epoch 15/60\n",
            "4712/4712 [==============================] - 55s 12ms/step - loss: 0.0913 - acc: 0.9674 - val_loss: 0.0843 - val_acc: 0.9716\n",
            "Epoch 16/60\n",
            "4712/4712 [==============================] - 55s 12ms/step - loss: 0.0843 - acc: 0.9703 - val_loss: 0.0805 - val_acc: 0.9718\n",
            "Epoch 17/60\n",
            "4712/4712 [==============================] - 55s 12ms/step - loss: 0.0799 - acc: 0.9724 - val_loss: 0.0759 - val_acc: 0.9742\n",
            "Epoch 18/60\n",
            "4712/4712 [==============================] - 56s 12ms/step - loss: 0.0760 - acc: 0.9744 - val_loss: 0.0794 - val_acc: 0.9728\n",
            "Epoch 19/60\n",
            "4712/4712 [==============================] - 56s 12ms/step - loss: 0.0704 - acc: 0.9762 - val_loss: 0.0788 - val_acc: 0.9729\n",
            "Epoch 20/60\n",
            "4712/4712 [==============================] - 57s 12ms/step - loss: 0.0673 - acc: 0.9777 - val_loss: 0.0669 - val_acc: 0.9793\n",
            "Epoch 21/60\n",
            "4712/4712 [==============================] - 56s 12ms/step - loss: 0.0645 - acc: 0.9788 - val_loss: 0.0798 - val_acc: 0.9730\n",
            "Epoch 22/60\n",
            "4712/4712 [==============================] - 56s 12ms/step - loss: 0.0621 - acc: 0.9797 - val_loss: 0.0625 - val_acc: 0.9793\n",
            "Epoch 23/60\n",
            "4712/4712 [==============================] - 56s 12ms/step - loss: 0.0606 - acc: 0.9804 - val_loss: 0.0641 - val_acc: 0.9798\n",
            "Epoch 24/60\n",
            "4712/4712 [==============================] - 57s 12ms/step - loss: 0.0586 - acc: 0.9810 - val_loss: 0.0690 - val_acc: 0.9762\n",
            "Epoch 25/60\n",
            "4712/4712 [==============================] - 54s 11ms/step - loss: 0.0557 - acc: 0.9824 - val_loss: 0.0590 - val_acc: 0.9815\n",
            "Epoch 26/60\n",
            "4712/4712 [==============================] - 54s 12ms/step - loss: 0.0552 - acc: 0.9828 - val_loss: 0.0683 - val_acc: 0.9767\n",
            "Epoch 27/60\n",
            "4712/4712 [==============================] - 56s 12ms/step - loss: 0.0536 - acc: 0.9829 - val_loss: 0.0594 - val_acc: 0.9824\n",
            "Epoch 28/60\n",
            "4712/4712 [==============================] - 56s 12ms/step - loss: 0.0519 - acc: 0.9837 - val_loss: 0.0665 - val_acc: 0.9782\n",
            "Epoch 29/60\n",
            "4712/4712 [==============================] - 56s 12ms/step - loss: 0.0498 - acc: 0.9848 - val_loss: 0.0565 - val_acc: 0.9821\n",
            "Epoch 30/60\n",
            "4712/4712 [==============================] - 55s 12ms/step - loss: 0.0510 - acc: 0.9844 - val_loss: 0.0745 - val_acc: 0.9727\n",
            "Epoch 31/60\n",
            "4712/4712 [==============================] - 57s 12ms/step - loss: 0.0503 - acc: 0.9850 - val_loss: 0.0570 - val_acc: 0.9826\n",
            "Epoch 32/60\n",
            "4712/4712 [==============================] - 57s 12ms/step - loss: 0.0490 - acc: 0.9853 - val_loss: 0.0603 - val_acc: 0.9803\n",
            "Epoch 33/60\n",
            "4712/4712 [==============================] - 55s 12ms/step - loss: 0.0490 - acc: 0.9856 - val_loss: 0.0591 - val_acc: 0.9821\n",
            "Epoch 34/60\n",
            "4712/4712 [==============================] - 57s 12ms/step - loss: 0.0475 - acc: 0.9859 - val_loss: 0.0563 - val_acc: 0.9832\n",
            "Epoch 35/60\n",
            "4712/4712 [==============================] - 57s 12ms/step - loss: 0.0464 - acc: 0.9867 - val_loss: 0.0555 - val_acc: 0.9840\n",
            "Epoch 36/60\n",
            "4712/4712 [==============================] - 56s 12ms/step - loss: 0.0470 - acc: 0.9864 - val_loss: 0.0634 - val_acc: 0.9803\n",
            "Epoch 37/60\n",
            "4712/4712 [==============================] - 56s 12ms/step - loss: 0.0482 - acc: 0.9857 - val_loss: 0.0551 - val_acc: 0.9826\n",
            "Epoch 38/60\n",
            "4712/4712 [==============================] - 56s 12ms/step - loss: 0.0464 - acc: 0.9867 - val_loss: 0.0558 - val_acc: 0.9832\n",
            "Epoch 39/60\n",
            "4712/4712 [==============================] - 55s 12ms/step - loss: 0.0474 - acc: 0.9859 - val_loss: 0.0559 - val_acc: 0.9831\n",
            "Epoch 40/60\n",
            "4712/4712 [==============================] - 55s 12ms/step - loss: 0.0457 - acc: 0.9860 - val_loss: 0.0551 - val_acc: 0.9840\n",
            "Epoch 41/60\n",
            "4712/4712 [==============================] - 57s 12ms/step - loss: 0.0451 - acc: 0.9866 - val_loss: 0.0543 - val_acc: 0.9834\n",
            "Epoch 42/60\n",
            "4712/4712 [==============================] - 56s 12ms/step - loss: 0.0445 - acc: 0.9873 - val_loss: 0.0552 - val_acc: 0.9833\n",
            "Epoch 43/60\n",
            "4712/4712 [==============================] - 57s 12ms/step - loss: 0.0456 - acc: 0.9870 - val_loss: 0.0556 - val_acc: 0.9838\n",
            "Epoch 44/60\n",
            "4712/4712 [==============================] - 56s 12ms/step - loss: 0.0462 - acc: 0.9861 - val_loss: 0.0561 - val_acc: 0.9833\n",
            "Epoch 45/60\n",
            "4712/4712 [==============================] - 56s 12ms/step - loss: 0.0466 - acc: 0.9873 - val_loss: 0.0548 - val_acc: 0.9846\n",
            "Epoch 46/60\n",
            "4712/4712 [==============================] - 56s 12ms/step - loss: 0.0465 - acc: 0.9870 - val_loss: 0.0562 - val_acc: 0.9833\n"
          ],
          "name": "stdout"
        },
        {
          "output_type": "display_data",
          "data": {
            "image/png": "[encoded data removed]",
            "text/plain": [
              "<Figure size 432x288 with 1 Axes>"
            ]
          },
          "metadata": {
            "tags": [],
            "needs_background": "light"
          }
        },
        {
          "output_type": "display_data",
          "data": {
            "image/png": "[encoded data removed]",
            "text/plain": [
              "<Figure size 432x288 with 1 Axes>"
            ]
          },
          "metadata": {
            "tags": [],
            "needs_background": "light"
          }
        }
      ]
    },
    {
      "cell_type": "code",
      "metadata": {
        "colab": {
          "base_uri": "https://localhost:8080/"
        },
        "id": "kgje3BLdeuyP",
        "outputId": "aac148a2-6759-4cb4-f113-dffc953ada88"
      },
      "source": [
        "results = model.evaluate(test_x, test_y, batch_size = 16)\n",
        "print(\"test loss, test acc: \", results)\n",
        "model.save(\"/content/drive/MyDrive/Colab Notebooks/projectModelBILSTM.h5\")"
      ],
      "execution_count": null,
      "outputs": [
        {
          "output_type": "stream",
          "text": [
            "737/737 [==============================] - 4s 5ms/step - loss: 0.0560 - acc: 0.9837\n",
            "test loss, test acc:  [0.05598553270101547, 0.9836984276771545]\n"
          ],
          "name": "stdout"
        }
      ]
    },
    {
      "cell_type": "code",
      "metadata": {
        "colab": {
          "base_uri": "https://localhost:8080/"
        },
        "id": "NVhbnxU-pozA",
        "outputId": "bb3ddb09-a23b-48ce-eb1c-0c3b805a9633"
      },
      "source": [
        "# next we try the CNN\n",
        "#create model\n",
        "# we first reshape our data\n",
        "train_x = []\n",
        "train_y = []\n",
        "for data in train_data:\n",
        "  train_x.append(data[:63])\n",
        "  train_y.append(int(data[63]))\n",
        "train_x = np.array(train_x)\n",
        "train_x = train_x.reshape((len(train_x), 3, int(len(train_x[0])/3), 1))\n",
        "train_y = np.array(train_y)\n",
        "print(\"shape of input data: \", train_x.shape)\n",
        "\n",
        "test_x = []\n",
        "test_y = []\n",
        "for data in test_data:\n",
        "  test_x.append(data[:63])\n",
        "  test_y.append(int(data[63]))\n",
        "test_x = np.array(test_x)\n",
        "test_x = test_x.reshape((len(test_x), 3, int(len(test_x[0])/3), 1))\n",
        "test_y = np.array(test_y)"
      ],
      "execution_count": null,
      "outputs": [
        {
          "output_type": "stream",
          "text": [
            "shape of input data:  (94228, 3, 21, 1)\n"
          ],
          "name": "stdout"
        }
      ]
    },
    {
      "cell_type": "code",
      "metadata": {
        "colab": {
          "base_uri": "https://localhost:8080/",
          "height": 1000
        },
        "id": "kergnUS2rc8s",
        "outputId": "b41d2e65-d70a-4965-bf4e-65a3d790ed29"
      },
      "source": [
        "model = Sequential()\n",
        "model.add(layers.Conv2D(64, \n",
        "                  kernel_size=3, \n",
        "                  activation='relu', \n",
        "                  input_shape=(3,21,1), \n",
        "                  padding='same'))\n",
        "model.add(layers.BatchNormalization(1))\n",
        "model.add(layers.Conv2D(64, \n",
        "                  kernel_size=3, \n",
        "                  activation='relu', \n",
        "                  padding='same'))\n",
        "model.add(layers.BatchNormalization(1))\n",
        "model.add(layers.MaxPooling2D(2,2))\n",
        "model.add(layers.Flatten())\n",
        "model.add(Dense(512, activation = 'relu')) \n",
        "model.add(Dense(1, activation='sigmoid'))\n",
        "model.compile(optimizer='rmsprop', loss='binary_crossentropy', metrics = ['acc'])\n",
        "history = model.fit(train_x, train_y, epochs= 60, batch_size = 16, validation_split = 0.2, callbacks=[callbacks.EarlyStopping(monitor='val_loss', patience = 5), callbacks.LearningRateScheduler(scheduler)] )\n",
        "plotting_training(history)"
      ],
      "execution_count": null,
      "outputs": [
        {
          "output_type": "stream",
          "text": [
            "Epoch 1/60\n",
            "4712/4712 [==============================] - 28s 6ms/step - loss: 0.4347 - acc: 0.8046 - val_loss: 0.1696 - val_acc: 0.9382\n",
            "Epoch 2/60\n",
            "4712/4712 [==============================] - 25s 5ms/step - loss: 0.1191 - acc: 0.9570 - val_loss: 0.0683 - val_acc: 0.9768\n",
            "Epoch 3/60\n",
            "4712/4712 [==============================] - 26s 5ms/step - loss: 0.0786 - acc: 0.9732 - val_loss: 0.0765 - val_acc: 0.9746\n",
            "Epoch 4/60\n",
            "4712/4712 [==============================] - 25s 5ms/step - loss: 0.0612 - acc: 0.9800 - val_loss: 0.0423 - val_acc: 0.9889\n",
            "Epoch 5/60\n",
            "4712/4712 [==============================] - 26s 6ms/step - loss: 0.0477 - acc: 0.9849 - val_loss: 0.0575 - val_acc: 0.9776\n",
            "Epoch 6/60\n",
            "4712/4712 [==============================] - 26s 6ms/step - loss: 0.0392 - acc: 0.9890 - val_loss: 0.0540 - val_acc: 0.9855\n",
            "Epoch 7/60\n",
            "4712/4712 [==============================] - 25s 5ms/step - loss: 0.0334 - acc: 0.9895 - val_loss: 0.0347 - val_acc: 0.9918\n",
            "Epoch 8/60\n",
            "4712/4712 [==============================] - 25s 5ms/step - loss: 0.0296 - acc: 0.9915 - val_loss: 0.0251 - val_acc: 0.9939\n",
            "Epoch 9/60\n",
            "4712/4712 [==============================] - 26s 5ms/step - loss: 0.0261 - acc: 0.9919 - val_loss: 0.0192 - val_acc: 0.9949\n",
            "Epoch 10/60\n",
            "4712/4712 [==============================] - 25s 5ms/step - loss: 0.0241 - acc: 0.9932 - val_loss: 0.0324 - val_acc: 0.9924\n",
            "Epoch 11/60\n",
            "4712/4712 [==============================] - 25s 5ms/step - loss: 0.0251 - acc: 0.9930 - val_loss: 0.0212 - val_acc: 0.9943\n",
            "Epoch 12/60\n",
            "4712/4712 [==============================] - 26s 6ms/step - loss: 0.0184 - acc: 0.9953 - val_loss: 0.0994 - val_acc: 0.9819\n",
            "Epoch 13/60\n",
            "4712/4712 [==============================] - 25s 5ms/step - loss: 0.0153 - acc: 0.9964 - val_loss: 0.0212 - val_acc: 0.9963\n",
            "Epoch 14/60\n",
            "4712/4712 [==============================] - 26s 6ms/step - loss: 0.0127 - acc: 0.9966 - val_loss: 0.0197 - val_acc: 0.9953\n"
          ],
          "name": "stdout"
        },
        {
          "output_type": "display_data",
          "data": {
            "image/png": "[encoded data removed]",
            "text/plain": [
              "<Figure size 432x288 with 1 Axes>"
            ]
          },
          "metadata": {
            "tags": [],
            "needs_background": "light"
          }
        },
        {
          "output_type": "display_data",
          "data": {
            "image/png": "[encoded data removed]",
            "text/plain": [
              "<Figure size 432x288 with 1 Axes>"
            ]
          },
          "metadata": {
            "tags": [],
            "needs_background": "light"
          }
        }
      ]
    },
    {
      "cell_type": "code",
      "metadata": {
        "colab": {
          "base_uri": "https://localhost:8080/"
        },
        "id": "ID6yopikqpwP",
        "outputId": "c5fb3abd-db05-47b1-df5a-9f9484bd8c7b"
      },
      "source": [
        "results = model.evaluate(test_x, test_y, batch_size = 16)\n",
        "print(\"test loss, test acc: \", results)\n",
        "model.save(\"/content/drive/MyDrive/Colab Notebooks/projectModelCNN.h5\")"
      ],
      "execution_count": null,
      "outputs": [
        {
          "output_type": "stream",
          "text": [
            "737/737 [==============================] - 2s 3ms/step - loss: 0.0225 - acc: 0.9943\n",
            "test loss, test acc:  [0.022467508912086487, 0.9943114519119263]\n"
          ],
          "name": "stdout"
        }
      ]
    }
  ]
}